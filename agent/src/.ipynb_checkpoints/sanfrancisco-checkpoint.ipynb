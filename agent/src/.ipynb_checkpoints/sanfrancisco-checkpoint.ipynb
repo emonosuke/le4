{
 "cells": [
  {
   "cell_type": "code",
   "execution_count": 86,
   "metadata": {},
   "outputs": [],
   "source": [
    "import numpy as np\n",
    "import pandas as pd\n",
    "from scaler import StandardScaler"
   ]
  },
  {
   "cell_type": "code",
   "execution_count": 45,
   "metadata": {},
   "outputs": [
    {
     "data": {
      "text/plain": [
       "Index(['id', 'listing_url', 'scrape_id', 'last_scraped', 'name', 'summary',\n",
       "       'space', 'description', 'experiences_offered', 'neighborhood_overview',\n",
       "       'notes', 'transit', 'access', 'interaction', 'house_rules',\n",
       "       'thumbnail_url', 'medium_url', 'picture_url', 'xl_picture_url',\n",
       "       'host_id', 'host_url', 'host_name', 'host_since', 'host_location',\n",
       "       'host_about', 'host_response_time', 'host_response_rate',\n",
       "       'host_acceptance_rate', 'host_is_superhost', 'host_thumbnail_url',\n",
       "       'host_picture_url', 'host_neighbourhood', 'host_listings_count',\n",
       "       'host_total_listings_count', 'host_verifications',\n",
       "       'host_has_profile_pic', 'host_identity_verified', 'street',\n",
       "       'neighbourhood', 'neighbourhood_cleansed',\n",
       "       'neighbourhood_group_cleansed', 'city', 'state', 'zipcode', 'market',\n",
       "       'smart_location', 'country_code', 'country', 'latitude', 'longitude',\n",
       "       'is_location_exact', 'property_type', 'room_type', 'accommodates',\n",
       "       'bathrooms', 'bedrooms', 'beds', 'bed_type', 'amenities', 'square_feet',\n",
       "       'price', 'weekly_price', 'monthly_price', 'security_deposit',\n",
       "       'cleaning_fee', 'guests_included', 'extra_people', 'minimum_nights',\n",
       "       'maximum_nights', 'calendar_updated', 'has_availability',\n",
       "       'availability_30', 'availability_60', 'availability_90',\n",
       "       'availability_365', 'calendar_last_scraped', 'number_of_reviews',\n",
       "       'first_review', 'last_review', 'review_scores_rating',\n",
       "       'review_scores_accuracy', 'review_scores_cleanliness',\n",
       "       'review_scores_checkin', 'review_scores_communication',\n",
       "       'review_scores_location', 'review_scores_value', 'requires_license',\n",
       "       'license', 'jurisdiction_names', 'instant_bookable',\n",
       "       'is_business_travel_ready', 'cancellation_policy',\n",
       "       'require_guest_profile_picture', 'require_guest_phone_verification',\n",
       "       'calculated_host_listings_count', 'reviews_per_month'],\n",
       "      dtype='object')"
      ]
     },
     "execution_count": 45,
     "metadata": {},
     "output_type": "execute_result"
    }
   ],
   "source": [
    "df = pd.read_csv('./data/San Francisco-listings.csv')\n",
    "\n",
    "df.columns"
   ]
  },
  {
   "cell_type": "code",
   "execution_count": 46,
   "metadata": {
    "collapsed": true
   },
   "outputs": [],
   "source": [
    "df = df[['latitude', 'longitude', 'accommodates', 'property_type', 'room_type', 'number_of_reviews', 'review_scores_rating', 'price']]"
   ]
  },
  {
   "cell_type": "code",
   "execution_count": 76,
   "metadata": {},
   "outputs": [
    {
     "name": "stdout",
     "output_type": "stream",
     "text": [
      "=== variety of property_type ===\n",
      "Apartment             440\n",
      "House                 267\n",
      "Condominium            93\n",
      "Guest suite            71\n",
      "Boutique hotel         24\n",
      "Loft                   21\n",
      "Townhouse              17\n",
      "Serviced apartment     16\n",
      "Hostel                 15\n",
      "Hotel                  11\n",
      "Guesthouse              8\n",
      "Bungalow                3\n",
      "Resort                  3\n",
      "Bed and breakfast       2\n",
      "Cottage                 2\n",
      "Aparthotel              2\n",
      "Timeshare               2\n",
      "Tiny house              1\n",
      "Other                   1\n",
      "Boat                    1\n",
      "Name: property_type, dtype: int64\n",
      "=== variety of room_type ===\n",
      "Entire home/apt    612\n",
      "Private room       360\n",
      "Shared room         28\n",
      "Name: room_type, dtype: int64\n"
     ]
    }
   ],
   "source": [
    "# 欠損値(review_scores_rating)を 0 へ変換\n",
    "df = df.fillna(0)\n",
    "\n",
    "# type についてその種類の確認\n",
    "print(\"=== variety of property_type ===\")\n",
    "vc_property = df['property_type'].value_counts()\n",
    "print(vc_property)\n",
    "\n",
    "print(\"=== variety of room_type ===\")\n",
    "vc_room = df['room_type'].value_counts()\n",
    "print(vc_room)"
   ]
  },
  {
   "cell_type": "code",
   "execution_count": 77,
   "metadata": {},
   "outputs": [
    {
     "data": {
      "text/html": [
       "<div>\n",
       "<style scoped>\n",
       "    .dataframe tbody tr th:only-of-type {\n",
       "        vertical-align: middle;\n",
       "    }\n",
       "\n",
       "    .dataframe tbody tr th {\n",
       "        vertical-align: top;\n",
       "    }\n",
       "\n",
       "    .dataframe thead th {\n",
       "        text-align: right;\n",
       "    }\n",
       "</style>\n",
       "<table border=\"1\" class=\"dataframe\">\n",
       "  <thead>\n",
       "    <tr style=\"text-align: right;\">\n",
       "      <th></th>\n",
       "      <th>latitude</th>\n",
       "      <th>longitude</th>\n",
       "      <th>accommodates</th>\n",
       "      <th>property_type</th>\n",
       "      <th>room_type</th>\n",
       "      <th>number_of_reviews</th>\n",
       "      <th>review_scores_rating</th>\n",
       "      <th>price</th>\n",
       "    </tr>\n",
       "  </thead>\n",
       "  <tbody>\n",
       "    <tr>\n",
       "      <th>136</th>\n",
       "      <td>37.805912</td>\n",
       "      <td>-122.408299</td>\n",
       "      <td>4</td>\n",
       "      <td>Condominium</td>\n",
       "      <td>Entire home/apt</td>\n",
       "      <td>4</td>\n",
       "      <td>93.0</td>\n",
       "      <td>$275.00</td>\n",
       "    </tr>\n",
       "    <tr>\n",
       "      <th>1503</th>\n",
       "      <td>37.749329</td>\n",
       "      <td>-122.410792</td>\n",
       "      <td>6</td>\n",
       "      <td>Apartment</td>\n",
       "      <td>Entire home/apt</td>\n",
       "      <td>41</td>\n",
       "      <td>95.0</td>\n",
       "      <td>$300.00</td>\n",
       "    </tr>\n",
       "    <tr>\n",
       "      <th>4239</th>\n",
       "      <td>37.784313</td>\n",
       "      <td>-122.420136</td>\n",
       "      <td>2</td>\n",
       "      <td>Boutique hotel</td>\n",
       "      <td>Private room</td>\n",
       "      <td>57</td>\n",
       "      <td>94.0</td>\n",
       "      <td>$150.00</td>\n",
       "    </tr>\n",
       "  </tbody>\n",
       "</table>\n",
       "</div>"
      ],
      "text/plain": [
       "       latitude   longitude  accommodates   property_type        room_type  \\\n",
       "136   37.805912 -122.408299             4     Condominium  Entire home/apt   \n",
       "1503  37.749329 -122.410792             6       Apartment  Entire home/apt   \n",
       "4239  37.784313 -122.420136             2  Boutique hotel     Private room   \n",
       "\n",
       "      number_of_reviews  review_scores_rating    price  \n",
       "136                   4                  93.0  $275.00  \n",
       "1503                 41                  95.0  $300.00  \n",
       "4239                 57                  94.0  $150.00  "
      ]
     },
     "execution_count": 77,
     "metadata": {},
     "output_type": "execute_result"
    }
   ],
   "source": [
    "# ランダムに 1000 件抽出\n",
    "df = df.sample(n=1000)\n",
    "df.head(3)"
   ]
  },
  {
   "cell_type": "code",
   "execution_count": 78,
   "metadata": {},
   "outputs": [],
   "source": [
    "def dollartofloat(s):\n",
    "    s = s.replace('$', '')\n",
    "    s = s.replace(',', '')\n",
    "    return float(s)\n",
    "\n",
    "prices = df['price'].values\n",
    "y = [dollartofloat(p) for p in prices]"
   ]
  },
  {
   "cell_type": "code",
   "execution_count": 100,
   "metadata": {},
   "outputs": [
    {
     "data": {
      "text/html": [
       "<div>\n",
       "<style scoped>\n",
       "    .dataframe tbody tr th:only-of-type {\n",
       "        vertical-align: middle;\n",
       "    }\n",
       "\n",
       "    .dataframe tbody tr th {\n",
       "        vertical-align: top;\n",
       "    }\n",
       "\n",
       "    .dataframe thead th {\n",
       "        text-align: right;\n",
       "    }\n",
       "</style>\n",
       "<table border=\"1\" class=\"dataframe\">\n",
       "  <thead>\n",
       "    <tr style=\"text-align: right;\">\n",
       "      <th></th>\n",
       "      <th>room_type_Private room</th>\n",
       "      <th>room_type_Shared room</th>\n",
       "    </tr>\n",
       "  </thead>\n",
       "  <tbody>\n",
       "    <tr>\n",
       "      <th>136</th>\n",
       "      <td>0</td>\n",
       "      <td>0</td>\n",
       "    </tr>\n",
       "    <tr>\n",
       "      <th>1503</th>\n",
       "      <td>0</td>\n",
       "      <td>0</td>\n",
       "    </tr>\n",
       "    <tr>\n",
       "      <th>4239</th>\n",
       "      <td>1</td>\n",
       "      <td>0</td>\n",
       "    </tr>\n",
       "  </tbody>\n",
       "</table>\n",
       "</div>"
      ],
      "text/plain": [
       "      room_type_Private room  room_type_Shared room\n",
       "136                        0                      0\n",
       "1503                       0                      0\n",
       "4239                       1                      0"
      ]
     },
     "execution_count": 100,
     "metadata": {},
     "output_type": "execute_result"
    }
   ],
   "source": [
    "df_processed = df[['latitude', 'longitude', 'accommodates', 'number_of_reviews', 'review_scores_rating']]\n",
    "X = df_processed.values\n",
    "\n",
    "# room_type は onehot vector に変換\n",
    "df_room = pd.get_dummies(df[['room_type']], drop_first=True)\n",
    "X = np.hstack((X, df_room.values))\n",
    "df_room.head(3)"
   ]
  },
  {
   "cell_type": "code",
   "execution_count": 101,
   "metadata": {},
   "outputs": [
    {
     "data": {
      "text/html": [
       "<div>\n",
       "<style scoped>\n",
       "    .dataframe tbody tr th:only-of-type {\n",
       "        vertical-align: middle;\n",
       "    }\n",
       "\n",
       "    .dataframe tbody tr th {\n",
       "        vertical-align: top;\n",
       "    }\n",
       "\n",
       "    .dataframe thead th {\n",
       "        text-align: right;\n",
       "    }\n",
       "</style>\n",
       "<table border=\"1\" class=\"dataframe\">\n",
       "  <thead>\n",
       "    <tr style=\"text-align: right;\">\n",
       "      <th></th>\n",
       "      <th>property_type_Condominium</th>\n",
       "      <th>property_type_Guest suite</th>\n",
       "      <th>property_type_House</th>\n",
       "      <th>property_type_Others</th>\n",
       "    </tr>\n",
       "  </thead>\n",
       "  <tbody>\n",
       "    <tr>\n",
       "      <th>136</th>\n",
       "      <td>1</td>\n",
       "      <td>0</td>\n",
       "      <td>0</td>\n",
       "      <td>0</td>\n",
       "    </tr>\n",
       "    <tr>\n",
       "      <th>1503</th>\n",
       "      <td>0</td>\n",
       "      <td>0</td>\n",
       "      <td>0</td>\n",
       "      <td>0</td>\n",
       "    </tr>\n",
       "    <tr>\n",
       "      <th>4239</th>\n",
       "      <td>0</td>\n",
       "      <td>0</td>\n",
       "      <td>0</td>\n",
       "      <td>1</td>\n",
       "    </tr>\n",
       "  </tbody>\n",
       "</table>\n",
       "</div>"
      ],
      "text/plain": [
       "      property_type_Condominium  property_type_Guest suite  \\\n",
       "136                           1                          0   \n",
       "1503                          0                          0   \n",
       "4239                          0                          0   \n",
       "\n",
       "      property_type_House  property_type_Others  \n",
       "136                     0                     0  \n",
       "1503                    0                     0  \n",
       "4239                    0                     1  "
      ]
     },
     "execution_count": 101,
     "metadata": {},
     "output_type": "execute_result"
    }
   ],
   "source": [
    "def addothers(s):\n",
    "    if s in ['Apartment', 'House', 'Condominium', 'Guest suite']:\n",
    "        return s\n",
    "    else:\n",
    "        return 'Others'\n",
    "\n",
    "# property_type は Apartment, House, Condominium, Guest Suit, Others に分類したのち、one-hot vector に変換\n",
    "df_property = df[['property_type']]\n",
    "df_property = df_property.applymap(addothers)\n",
    "df_property = pd.get_dummies(df_property, drop_first=True)\n",
    "X = np.hstack((X, df_property.values))\n",
    "df_property.head(3)"
   ]
  },
  {
   "cell_type": "code",
   "execution_count": 102,
   "metadata": {},
   "outputs": [
    {
     "name": "stdout",
     "output_type": "stream",
     "text": [
      "(1000, 11)\n"
     ]
    },
    {
     "data": {
      "text/plain": [
       "array([[ 1.7195199 ,  0.84687126,  0.3719947 , ..., -0.27645302,\n",
       "        -0.60353655, -0.38484493],\n",
       "       [-0.73719734,  0.75047463,  1.3760291 , ..., -0.27645302,\n",
       "        -0.60353655, -0.38484493],\n",
       "       [ 0.7817505 ,  0.3882479 , -0.63203967, ..., -0.27645302,\n",
       "        -0.60353655,  2.5984492 ],\n",
       "       ...,\n",
       "       [-0.57753474,  1.0115736 ,  0.87401193, ...,  3.6172512 ,\n",
       "        -0.60353655, -0.38484493],\n",
       "       [ 0.50565344, -0.4946982 , -0.63203967, ..., -0.27645302,\n",
       "        -0.60353655, -0.38484493],\n",
       "       [ 1.1081976 ,  0.7661465 , -0.63203967, ..., -0.27645302,\n",
       "        -0.60353655, -0.38484493]], dtype=float32)"
      ]
     },
     "execution_count": 102,
     "metadata": {},
     "output_type": "execute_result"
    }
   ],
   "source": [
    "X = X.astype(np.float32)\n",
    "print(X.shape)\n",
    "# X に StandardScalerを適用\n",
    "sc = StandardScaler()\n",
    "sc.fit_transform(X)"
   ]
  }
 ],
 "metadata": {
  "kernelspec": {
   "display_name": "Python 3",
   "language": "python",
   "name": "python3"
  },
  "language_info": {
   "codemirror_mode": {
    "name": "ipython",
    "version": 3
   },
   "file_extension": ".py",
   "mimetype": "text/x-python",
   "name": "python",
   "nbconvert_exporter": "python",
   "pygments_lexer": "ipython3",
   "version": "3.6.6"
  }
 },
 "nbformat": 4,
 "nbformat_minor": 2
}
